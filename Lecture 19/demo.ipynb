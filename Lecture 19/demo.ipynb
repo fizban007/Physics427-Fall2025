{
 "cells": [
  {
   "cell_type": "code",
   "execution_count": 4,
   "metadata": {},
   "outputs": [],
   "source": [
    "import matplotlib\n",
    "matplotlib.rcParams['text.usetex'] = True\n",
    "matplotlib.rcParams['font.family'] = 'serf'\n",
    "import matplotlib.pyplot as plt\n",
    "import numpy as np"
   ]
  },
  {
   "cell_type": "code",
   "execution_count": 5,
   "metadata": {},
   "outputs": [],
   "source": [
    "def solve_ftcs(f, v, dx, dt):\n",
    "    f_next = np.zeros(len(f))\n",
    "    f_next = f - v * dt / 2.0 / dx * (np.roll(f,-1) - np.roll(f, 1))\n",
    "    return f_next\n",
    "\n",
    "def solve_lax(f, v, dx, dt):\n",
    "    f_next = np.zeros(len(f))\n",
    "    f_next = 0.5 * (np.roll(f, 1) + np.roll(f, -1)) - v * dt / 2.0 / dx * (np.roll(f,-1) - np.roll(f, 1))\n",
    "    return f_next\n",
    "\n",
    "def solve_upwind(f, v, dx, dt):\n",
    "    # f_next = np.zeros(len(f))\n",
    "    f_next = f - v * dt / dx * (f - np.roll(f, 1))\n",
    "    return f_next\n",
    "\n",
    "def solve_leapfrog(f, f1, v, dx, dt):\n",
    "    f_next = np.zeros(len(f))\n",
    "    f_next = f1 - v * dt / dx * (np.roll(f,-1) - np.roll(f, 1))\n",
    "    return f_next\n",
    "\n",
    "def solve_lax_wendroff(f, v, dx, dt):\n",
    "    f1 = 0.5 * (np.roll(f, 1) + f) - v * dt / 2.0 / dx * (f - np.roll(f, 1))\n",
    "    f2 = 0.5 * (f + np.roll(f, -1)) - v * dt / 2.0 / dx * (np.roll(f, -1) - f)\n",
    "    f_next = f - v * dt / dx * (f2 - f1)\n",
    "    return f_next"
   ]
  },
  {
   "cell_type": "code",
   "execution_count": 34,
   "metadata": {},
   "outputs": [],
   "source": [
    "def solve_lax_2d(f, vx, vy, dx, dy, dt):\n",
    "    f_next = 0.25 * (np.roll(f, 1, axis=0) + np.roll(f, -1, axis=0) +\n",
    "                     np.roll(f, 1, axis=1) + np.roll(f, -1, axis=1)) - \\\n",
    "              vx * dt / 2.0 / dx * (np.roll(f,-1, axis=1) - np.roll(f, 1, axis=1)) - \\\n",
    "              vy * dt / 2.0 / dy * (np.roll(f,-1, axis=0) - np.roll(f, 1, axis=0))\n",
    "    return f_next\n",
    "\n",
    "def solve_upwind_2d(f, vx, vy, dx, dy, dt):\n",
    "    f_next = f - vx * dt / dx * (f - np.roll(f, 1, axis=1)) - vy * dt / dy * (f - np.roll(f, 1, axis=0))\n",
    "    return f_next\n",
    "\n",
    "def solve_lax_wendroff_2d(f, vx, vy, dx, dy, dt):\n",
    "    f_avg_x = 0.5 * (np.roll(f, 0, axis=1) + np.roll(f, -1, axis=1))\n",
    "    f_avg_y = 0.5 * (np.roll(f, 0, axis=0) + np.roll(f, -1, axis=0))\n",
    "    f_half = 0.25 * (np.roll(f, 0, axis=0) + np.roll(f, -1, axis=0) +\n",
    "                     np.roll(f, 0, axis=1) + np.roll(f, -1, axis=1)) - \\\n",
    "              vx * dt / 2.0 / dx * (np.roll(f_avg_y,-1, axis=1) - np.roll(f_avg_y, 0, axis=1)) - \\\n",
    "              vy * dt / 2.0 / dy * (np.roll(f_avg_x,-1, axis=0) - np.roll(f_avg_x, 0, axis=0))\n",
    "    f_half_avg_x = 0.5 * (np.roll(f_half, 1, axis=1) + np.roll(f_half, 0, axis=1))\n",
    "    f_half_avg_y = 0.5 * (np.roll(f_half, 1, axis=0) + np.roll(f_half, 0, axis=0))\n",
    "    f_next = f - vx * dt / dx * (f_half - np.roll(f_half, 1, axis=0)) - vy * dt / dy * (f_half - np.roll(f_half, 1, axis=1))\n",
    "    return f_next\n",
    "\n",
    "def solve_fcts_diffusion(f, D, dx, dt):\n",
    "    f_next = np.zeros(len(f))\n",
    "    f_next = f + D * dt / dx**2 * (np.roll(f,-1) - 2 * f + np.roll(f, 1))\n",
    "    return f_next"
   ]
  },
  {
   "cell_type": "code",
   "execution_count": 76,
   "metadata": {},
   "outputs": [
    {
     "name": "stdout",
     "output_type": "stream",
     "text": [
      "[[0.00787402 0.00787402 0.00787402 ... 0.00787402 0.00787402 0.00787402]\n",
      " [0.01574803 0.01574803 0.01574803 ... 0.01574803 0.01574803 0.01574803]\n",
      " [0.02362205 0.02362205 0.02362205 ... 0.02362205 0.02362205 0.02362205]\n",
      " ...\n",
      " [0.99212598 0.99212598 0.99212598 ... 0.99212598 0.99212598 0.99212598]\n",
      " [1.         1.         1.         ... 1.         1.         1.        ]\n",
      " [0.         0.         0.         ... 0.         0.         0.        ]]\n"
     ]
    }
   ],
   "source": [
    "print(np.roll(y, -1, axis=0))"
   ]
  },
  {
   "cell_type": "code",
   "execution_count": 35,
   "metadata": {},
   "outputs": [],
   "source": [
    "nx = 128\n",
    "ny = 128\n",
    "lx = 1.0\n",
    "ly = 1.0\n",
    "dx = lx / nx\n",
    "dy = ly / ny\n",
    "\n",
    "xs = np.linspace(0, lx, nx)\n",
    "ys = np.linspace(0, ly, ny)\n",
    "x, y = np.meshgrid(xs, ys)\n",
    "\n",
    "f = np.exp(-((x - 0.5)**2 + (y - 0.5)**2) / 0.05**2)\n",
    "vx = 1.5\n",
    "vy = 1.0\n",
    "\n",
    "dt = 1.0 * dx / np.sqrt(vx**2 + vy**2) / np.sqrt(2.0)\n",
    "\n",
    "freq = 2\n",
    "for n in range(nx * 2):\n",
    "    f = solve_upwind_2d(f, vx, vy, dx, dy, dt)\n",
    "    if n % freq == 0:\n",
    "        plt.pcolor(x, y, f)\n",
    "        plt.colorbar()\n",
    "        plt.savefig(f'fig{n//freq:03d}.png', dpi=300, bbox_inches='tight')\n",
    "        plt.close()\n"
   ]
  },
  {
   "cell_type": "code",
   "execution_count": 12,
   "metadata": {},
   "outputs": [],
   "source": [
    "nx = 256\n",
    "lx = 1.0\n",
    "xs = np.linspace(0, lx, nx)\n",
    "dx = xs[1] - xs[0]\n",
    "dt = 1.0 * lx / nx\n",
    "\n",
    "# f1 = np.exp(-((xs - 0.5) / 0.1)**2)\n",
    "f1 = np.where((xs < 0.55) & (xs > 0.35), 1.0, 0.0)\n",
    "f = solve_upwind(f1, 1.0, dx, dt)\n",
    "# f = f1\n",
    "\n",
    "freq = 5\n",
    "for i in range(nx * 2):\n",
    "    if i % freq == 0:\n",
    "        plt.plot(xs, f1)\n",
    "        ax = plt.gca()\n",
    "        ax.set_xlabel(\"$x$\")\n",
    "        ax.set_ylabel(\"$u$\")\n",
    "        ax.set_ylim(-2.0, 3.0)\n",
    "        ax.set_xlim(0.0, 1.0)\n",
    "        ax.axhline(0.0, color='r', ls='--')\n",
    "        plt.savefig(\"fig%03d.png\" % (i/freq))\n",
    "        plt.close()\n",
    "    f_prev = f\n",
    "    f = solve_leapfrog(f, f1, 1.0, dx, dt)\n",
    "    f1 = f_prev\n",
    "    # f = solve_lax(f, 1.0, dx, dt)"
   ]
  },
  {
   "cell_type": "code",
   "execution_count": 16,
   "metadata": {},
   "outputs": [],
   "source": [
    "nx = 256\n",
    "lx = 1.0\n",
    "xs = np.linspace(0, lx, nx)\n",
    "dx = xs[1] - xs[0]\n",
    "dt = lx / nx * 0.9\n",
    "\n",
    "# f = np.exp(-((xs - 0.5) / 0.1)**2)\n",
    "f = np.where((xs < 0.55) & (xs > 0.35), 1.0, 0.0)\n",
    "# plt.plot(xs, f)\n",
    "\n",
    "freq = 5\n",
    "for i in range(nx * 2):\n",
    "    if i % freq == 0:\n",
    "        plt.plot(xs, f)\n",
    "        ax = plt.gca()\n",
    "        ax.set_xlabel(\"$x$\")\n",
    "        ax.set_ylabel(\"$u$\")\n",
    "        ax.set_ylim(-2, 3)\n",
    "        ax.set_xlim(0.0, 1.0)\n",
    "        ax.axhline(0.0, color='r', ls='--')\n",
    "        plt.savefig(\"fig%03d.png\" % (i/freq))\n",
    "        plt.close()\n",
    "    f = solve_lax_wendroff(f, 1.0, dx, dt)"
   ]
  },
  {
   "cell_type": "code",
   "execution_count": 31,
   "metadata": {},
   "outputs": [
    {
     "name": "stdout",
     "output_type": "stream",
     "text": [
      "ffmpeg version n7.0.2 Copyright (c) 2000-2024 the FFmpeg developers\n",
      "  built with gcc 14.2.1 (GCC) 20240910\n",
      "  configuration: --prefix=/usr --disable-debug --disable-static --disable-stripping --enable-amf --enable-avisynth --enable-cuda-llvm --enable-lto --enable-fontconfig --enable-frei0r --enable-gmp --enable-gnutls --enable-gpl --enable-ladspa --enable-libaom --enable-libass --enable-libbluray --enable-libbs2b --enable-libdav1d --enable-libdrm --enable-libdvdnav --enable-libdvdread --enable-libfreetype --enable-libfribidi --enable-libgsm --enable-libharfbuzz --enable-libiec61883 --enable-libjack --enable-libjxl --enable-libmodplug --enable-libmp3lame --enable-libopencore_amrnb --enable-libopencore_amrwb --enable-libopenjpeg --enable-libopenmpt --enable-libopus --enable-libplacebo --enable-libpulse --enable-librav1e --enable-librsvg --enable-librubberband --enable-libsnappy --enable-libsoxr --enable-libspeex --enable-libsrt --enable-libssh --enable-libsvtav1 --enable-libtheora --enable-libv4l2 --enable-libvidstab --enable-libvmaf --enable-libvorbis --enable-libvpl --enable-libvpx --enable-libwebp --enable-libx264 --enable-libx265 --enable-libxcb --enable-libxml2 --enable-libxvid --enable-libzimg --enable-libzmq --enable-nvdec --enable-nvenc --enable-opencl --enable-opengl --enable-shared --enable-vapoursynth --enable-version3 --enable-vulkan\n",
      "  libavutil      59.  8.100 / 59.  8.100\n",
      "  libavcodec     61.  3.100 / 61.  3.100\n",
      "  libavformat    61.  1.100 / 61.  1.100\n",
      "  libavdevice    61.  1.100 / 61.  1.100\n",
      "  libavfilter    10.  1.100 / 10.  1.100\n",
      "  libswscale      8.  1.100 /  8.  1.100\n",
      "  libswresample   5.  1.100 /  5.  1.100\n",
      "  libpostproc    58.  1.100 / 58.  1.100\n",
      "Input #0, image2, from 'fig%03d.png':\n",
      "  Duration: 00:00:05.12, start: 0.000000, bitrate: N/A\n",
      "  Stream #0:0: Video: png, rgba(pc, gbr/unknown/unknown), 1544x1244 [SAR 11811:11811 DAR 386:311], 25 fps, 25 tbr, 25 tbn\n",
      "Stream mapping:\n",
      "  Stream #0:0 -> #0:0 (png (native) -> h264 (libx264))\n",
      "Press [q] to stop, [?] for help\n",
      "\u001b[1;36m[libx264 @ 0x56d079fe2100] \u001b[0musing SAR=1/1\n",
      "\u001b[1;36m[libx264 @ 0x56d079fe2100] \u001b[0musing cpu capabilities: MMX2 SSE2Fast SSSE3 SSE4.2 AVX FMA3 BMI2 AVX2\n",
      "\u001b[1;36m[libx264 @ 0x56d079fe2100] \u001b[0mprofile High, level 4.0, 4:2:0, 8-bit\n",
      "\u001b[1;36m[libx264 @ 0x56d079fe2100] \u001b[0m264 - core 164 r3108 31e19f9 - H.264/MPEG-4 AVC codec - Copyleft 2003-2023 - http://www.videolan.org/x264.html - options: cabac=1 ref=3 deblock=1:0:0 analyse=0x3:0x113 me=hex subme=7 psy=1 psy_rd=1.00:0.00 mixed_ref=1 me_range=16 chroma_me=1 trellis=1 8x8dct=1 cqm=0 deadzone=21,11 fast_pskip=1 chroma_qp_offset=-2 threads=24 lookahead_threads=4 sliced_threads=0 nr=0 decimate=1 interlaced=0 bluray_compat=0 constrained_intra=0 bframes=3 b_pyramid=2 b_adapt=1 b_bias=0 direct=1 weightb=1 open_gop=0 weightp=2 keyint=250 keyint_min=10 scenecut=40 intra_refresh=0 rc_lookahead=40 rc=crf mbtree=1 crf=23.0 qcomp=0.60 qpmin=0 qpmax=69 qpstep=4 ip_ratio=1.40 aq=1:1.00\n",
      "Output #0, mp4, to 'lax_2d.mp4':\n",
      "  Metadata:\n",
      "    encoder         : Lavf61.1.100\n",
      "  Stream #0:0: Video: h264 (avc1 / 0x31637661), yuv420p(progressive), 1544x1244 [SAR 1:1 DAR 386:311], q=2-31, 10 fps, 10240 tbn\n",
      "      Metadata:\n",
      "        encoder         : Lavc61.3.100 libx264\n",
      "      Side data:\n",
      "        cpb: bitrate max/min/avg: 0/0/0 buffer size: 0 vbv_delay: N/A\n",
      "\u001b[1;32m[vf#0:0 @ 0x56d079fe4ac0] \u001b[0mReconfiguring filter graph because video parameters changed to rgba(pc, gbr), 1565x1244\n",
      "\u001b[1;32m[vf#0:0 @ 0x56d079fe4ac0] \u001b[0mReconfiguring filter graph because video parameters changed to rgba(pc, gbr), 1565x1246\n",
      "\u001b[1;32m[vf#0:0 @ 0x56d079fe4ac0] \u001b[0mReconfiguring filter graph because video parameters changed to rgba(pc, gbr), 1565x1244\n",
      "\u001b[1;35m[out#0/mp4 @ 0x56d079fe2ec0] \u001b[0mvideo:297KiB audio:0KiB subtitle:0KiB other streams:0KiB global headers:0KiB muxing overhead: 0.745401%\n",
      "frame=  128 fps= 72 q=-1.0 Lsize=     299KiB time=00:00:12.60 bitrate= 194.7kbits/s speed= 7.1x    \n",
      "\u001b[1;36m[libx264 @ 0x56d079fe2100] \u001b[0mframe I:1     Avg QP:18.87  size: 14624\n",
      "\u001b[1;36m[libx264 @ 0x56d079fe2100] \u001b[0mframe P:57    Avg QP:16.31  size:  3288\n",
      "\u001b[1;36m[libx264 @ 0x56d079fe2100] \u001b[0mframe B:70    Avg QP:18.21  size:  1452\n",
      "\u001b[1;36m[libx264 @ 0x56d079fe2100] \u001b[0mconsecutive B-frames: 17.2% 25.0% 14.1% 43.8%\n",
      "\u001b[1;36m[libx264 @ 0x56d079fe2100] \u001b[0mmb I  I16..4: 25.5% 70.3%  4.3%\n",
      "\u001b[1;36m[libx264 @ 0x56d079fe2100] \u001b[0mmb P  I16..4:  1.3%  1.2%  0.5%  P16..4:  4.0%  1.1%  0.4%  0.0%  0.0%    skip:91.6%\n",
      "\u001b[1;36m[libx264 @ 0x56d079fe2100] \u001b[0mmb B  I16..4:  0.3%  0.2%  0.0%  B16..8:  4.8%  1.0%  0.1%  direct: 0.4%  skip:93.2%  L0:48.2% L1:45.9% BI: 5.9%\n",
      "\u001b[1;36m[libx264 @ 0x56d079fe2100] \u001b[0m8x8 transform intra:50.9% inter:87.3%\n",
      "\u001b[1;36m[libx264 @ 0x56d079fe2100] \u001b[0mcoded y,uvDC,uvAC intra: 19.5% 39.8% 19.1% inter: 0.8% 1.5% 0.2%\n",
      "\u001b[1;36m[libx264 @ 0x56d079fe2100] \u001b[0mi16 v,h,dc,p: 54% 41%  3%  2%\n",
      "\u001b[1;36m[libx264 @ 0x56d079fe2100] \u001b[0mi8 v,h,dc,ddl,ddr,vr,hd,vl,hu: 32% 15% 50%  1%  0%  0%  0%  0%  1%\n",
      "\u001b[1;36m[libx264 @ 0x56d079fe2100] \u001b[0mi4 v,h,dc,ddl,ddr,vr,hd,vl,hu: 53% 28% 13%  1%  1%  1%  1%  1%  1%\n",
      "\u001b[1;36m[libx264 @ 0x56d079fe2100] \u001b[0mi8c dc,h,v,p: 56% 19% 20%  5%\n",
      "\u001b[1;36m[libx264 @ 0x56d079fe2100] \u001b[0mWeighted P-Frames: Y:0.0% UV:0.0%\n",
      "\u001b[1;36m[libx264 @ 0x56d079fe2100] \u001b[0mref P L0: 73.5%  7.7% 13.7%  5.1%\n",
      "\u001b[1;36m[libx264 @ 0x56d079fe2100] \u001b[0mref B L0: 86.7% 12.1%  1.2%\n",
      "\u001b[1;36m[libx264 @ 0x56d079fe2100] \u001b[0mref B L1: 95.8%  4.2%\n",
      "\u001b[1;36m[libx264 @ 0x56d079fe2100] \u001b[0mkb/s:189.82\n"
     ]
    }
   ],
   "source": [
    "!ffmpeg -r 10 -i fig%03d.png -vcodec libx264 -pix_fmt yuv420p -y lax_2d.mp4"
   ]
  },
  {
   "cell_type": "code",
   "execution_count": 36,
   "metadata": {},
   "outputs": [],
   "source": [
    "!rm *.png"
   ]
  },
  {
   "cell_type": "code",
   "execution_count": null,
   "metadata": {},
   "outputs": [],
   "source": []
  }
 ],
 "metadata": {
  "kernelspec": {
   "display_name": "Python 3",
   "language": "python",
   "name": "python3"
  },
  "language_info": {
   "codemirror_mode": {
    "name": "ipython",
    "version": 3
   },
   "file_extension": ".py",
   "mimetype": "text/x-python",
   "name": "python",
   "nbconvert_exporter": "python",
   "pygments_lexer": "ipython3",
   "version": "3.12.6"
  }
 },
 "nbformat": 4,
 "nbformat_minor": 2
}
